{
 "cells": [
  {
   "cell_type": "markdown",
   "metadata": {},
   "source": [
    "[![Open In Colab](https://colab.research.google.com/assets/colab-badge.svg)](https://colab.research.google.com/github/linclab/EG_optimiser/blob/main/example.ipynb)"
   ]
  },
  {
   "cell_type": "markdown",
   "metadata": {},
   "source": [
    "This is a slightly modified PyTorch MNIST example https://github.com/pytorch/examples/blob/main/mnist/main.py"
   ]
  },
  {
   "cell_type": "code",
   "execution_count": null,
   "metadata": {},
   "outputs": [],
   "source": [
    "!git clone https://github.com/linclab/EG_optimiser.git\n",
    "%cd EG_optimiser\n",
    "!pip install -e . --no-deps # use --no-deps if pytorch is already installed (e.g. in Colab)"
   ]
  },
  {
   "cell_type": "code",
   "execution_count": 1,
   "metadata": {},
   "outputs": [],
   "source": [
    "import torch\n",
    "import torch.nn as nn\n",
    "import torch.nn.functional as F\n",
    "import torch.optim as optim\n",
    "from torchvision import datasets, transforms\n",
    "from torch.optim.lr_scheduler import StepLR\n",
    "from optim_eg import adamw_eg, sgd_eg, init_tools\n",
    "import matplotlib.pyplot as plt\n",
    "import seaborn as sns\n",
    "from copy import deepcopy\n",
    "\n",
    "\n",
    "class Net(nn.Module):\n",
    "    def __init__(self):\n",
    "        super(Net, self).__init__()\n",
    "        self.conv1 = nn.Conv2d(1, 32, 3, 1)\n",
    "        self.conv2 = nn.Conv2d(32, 64, 3, 1)\n",
    "        self.dropout1 = nn.Dropout(0.25)\n",
    "        self.dropout2 = nn.Dropout(0.5)\n",
    "        self.fc1 = nn.Linear(9216, 128)\n",
    "        self.fc2 = nn.Linear(128, 10)\n",
    "\n",
    "    def forward(self, x):\n",
    "        x = self.conv1(x)\n",
    "        x = F.relu(x)\n",
    "        x = self.conv2(x)\n",
    "        x = F.relu(x)\n",
    "        x = F.max_pool2d(x, 2)\n",
    "        x = self.dropout1(x)\n",
    "        x = torch.flatten(x, 1)\n",
    "        x = self.fc1(x)\n",
    "        x = F.relu(x)\n",
    "        x = self.dropout2(x)\n",
    "        x = self.fc2(x)\n",
    "        output = F.log_softmax(x, dim=1)\n",
    "        return output\n",
    "\n",
    "\n",
    "def train(model, device, train_loader, optimizer, epoch, log_interval=100):\n",
    "    model.train()\n",
    "    for batch_idx, (data, target) in enumerate(train_loader):\n",
    "        data, target = data.to(device), target.to(device)\n",
    "        optimizer.zero_grad()\n",
    "        output = model(data)\n",
    "        loss = F.nll_loss(output, target)\n",
    "        loss.backward()\n",
    "        optimizer.step()\n",
    "        if batch_idx % log_interval == 0:\n",
    "            print('Train Epoch: {} [{}/{} ({:.0f}%)]\\tLoss: {:.6f}'.format(\n",
    "                epoch, batch_idx * len(data), len(train_loader.dataset),\n",
    "                100. * batch_idx / len(train_loader), loss.item()))\n",
    "\n",
    "\n",
    "def test(model, device, test_loader):\n",
    "    model.eval()\n",
    "    test_loss = 0\n",
    "    correct = 0\n",
    "    with torch.no_grad():\n",
    "        for data, target in test_loader:\n",
    "            data, target = data.to(device), target.to(device)\n",
    "            output = model(data)\n",
    "            test_loss += F.nll_loss(output, target, reduction='sum').item()  # sum up batch loss\n",
    "            pred = output.argmax(dim=1, keepdim=True)  # get the index of the max log-probability\n",
    "            correct += pred.eq(target.view_as(pred)).sum().item()\n",
    "\n",
    "    test_loss /= len(test_loader.dataset)\n",
    "\n",
    "    print('\\nTest set: Average loss: {:.4f}, Accuracy: {}/{} ({:.0f}%)\\n'.format(\n",
    "        test_loss, correct, len(test_loader.dataset),\n",
    "        100. * correct / len(test_loader.dataset)))"
   ]
  },
  {
   "cell_type": "code",
   "execution_count": 2,
   "metadata": {},
   "outputs": [],
   "source": [
    "def main(opt='sgd', lr=0.1, use_split_bias=False, use_lognormal_init=False):\n",
    "    epochs = 2\n",
    "    device = torch.device(\"cuda\") if torch.cuda.is_available() else torch.device(\"cpu\")\n",
    "    train_kwargs = {'batch_size': 256}\n",
    "    test_kwargs = {'batch_size': 256}\n",
    "    if torch.cuda.is_available():\n",
    "        cuda_kwargs = {'num_workers': 1,\n",
    "                       'pin_memory': True,\n",
    "                       'shuffle': True}\n",
    "        train_kwargs.update(cuda_kwargs)\n",
    "        test_kwargs.update(cuda_kwargs)\n",
    "\n",
    "    transform=transforms.Compose([\n",
    "        transforms.ToTensor(),\n",
    "        transforms.Normalize((0.1307,), (0.3081,))\n",
    "        ])\n",
    "    \n",
    "    dataset1 = datasets.MNIST('../data', train=True, download=True,\n",
    "                       transform=transform)\n",
    "    dataset2 = datasets.MNIST('../data', train=False,\n",
    "                       transform=transform)\n",
    "    train_loader = torch.utils.data.DataLoader(dataset1,**train_kwargs)\n",
    "    test_loader = torch.utils.data.DataLoader(dataset2, **test_kwargs)\n",
    "\n",
    "    model = Net().to(device)\n",
    "    \n",
    "    if use_split_bias:\n",
    "        init_tools.set_split_bias(model)\n",
    "    \n",
    "    if use_lognormal_init:\n",
    "        mean_std_ratio = 1.5\n",
    "        init_func = init_tools.lognormal_\n",
    "        gain = torch.nn.init.calculate_gain('relu')\n",
    "\n",
    "        for m in model.modules():\n",
    "            if (isinstance(m, torch.nn.Linear) or isinstance(m, torch.nn.Conv2d)) and m != model.fc2:\n",
    "                init_tools.lognormal_(m.weight, gain=gain, mode=\"fan_out\", mean_std_ratio=mean_std_ratio)\n",
    "    \n",
    "    init_state = deepcopy(model.state_dict())\n",
    "    \n",
    "    # Choosing the optimizer\n",
    "    if opt == 'sgd':\n",
    "        # vanilla SGD\n",
    "        optimizer = sgd_eg.SGD(model.parameters(), lr=lr, update_alg='gd', momentum=0.9)\n",
    "    elif opt == 'sgd_sign':\n",
    "        optimizer = sgd_eg.SGD(model.parameters(), lr=lr, update_alg='gd', \n",
    "                               freeze_gd_signs=True, freeze_gd_signs_th=1e-18, momentum=0.9)\n",
    "    elif opt == 'sgd_eg':\n",
    "        optimizer = sgd_eg.SGD(model.parameters(), lr=lr, update_alg='eg', momentum=0.9)\n",
    "    elif opt == 'adamw_eg':\n",
    "        optimizer = adamw_eg.AdamWeg(model.parameters(), lr=lr)\n",
    "\n",
    "    scheduler = StepLR(optimizer, step_size=1, gamma=0.7)\n",
    "    for epoch in range(1, epochs + 1):\n",
    "        train(model, device, train_loader, optimizer, epoch)\n",
    "        test(model, device, test_loader)\n",
    "        scheduler.step()\n",
    "    \n",
    "    final_state = model.state_dict()\n",
    "    \n",
    "    return init_state, final_state"
   ]
  },
  {
   "cell_type": "markdown",
   "metadata": {},
   "source": [
    "The SGD implementation has three options: the vanilla SGD, SGD with frozen signs, and (stochastic) EG. All standard PyTorch arguments (momentum, weight decay, etc.) can be used here too. Note that EG often requires larger learning rates than GD.\n",
    "\n",
    "The AdamEeg only work in the EG variant. It also takes all standard AdamW arguments (like betas). There's no fused option from torch 2.0 though, as we're using the torch 1.13 AdamW implementation for better compatibility. "
   ]
  },
  {
   "cell_type": "code",
   "execution_count": 3,
   "metadata": {},
   "outputs": [
    {
     "name": "stdout",
     "output_type": "stream",
     "text": [
      "================\n",
      "Running sgd\n",
      "================\n",
      "\n",
      "Train Epoch: 1 [0/60000 (0%)]\tLoss: 2.284747\n",
      "Train Epoch: 1 [25600/60000 (43%)]\tLoss: 0.273404\n",
      "Train Epoch: 1 [51200/60000 (85%)]\tLoss: 0.283175\n",
      "\n",
      "Test set: Average loss: 0.0650, Accuracy: 9803/10000 (98%)\n",
      "\n",
      "Train Epoch: 2 [0/60000 (0%)]\tLoss: 0.102723\n",
      "Train Epoch: 2 [25600/60000 (43%)]\tLoss: 0.163474\n",
      "Train Epoch: 2 [51200/60000 (85%)]\tLoss: 0.069611\n",
      "\n",
      "Test set: Average loss: 0.0418, Accuracy: 9872/10000 (99%)\n",
      "\n",
      "================\n",
      "Running sgd_sign\n",
      "================\n",
      "\n",
      "Train Epoch: 1 [0/60000 (0%)]\tLoss: 2.310104\n",
      "Train Epoch: 1 [25600/60000 (43%)]\tLoss: 0.232614\n",
      "Train Epoch: 1 [51200/60000 (85%)]\tLoss: 0.152990\n",
      "\n",
      "Test set: Average loss: 0.0666, Accuracy: 9807/10000 (98%)\n",
      "\n",
      "Train Epoch: 2 [0/60000 (0%)]\tLoss: 0.109587\n",
      "Train Epoch: 2 [25600/60000 (43%)]\tLoss: 0.057244\n",
      "Train Epoch: 2 [51200/60000 (85%)]\tLoss: 0.115383\n",
      "\n",
      "Test set: Average loss: 0.0468, Accuracy: 9849/10000 (98%)\n",
      "\n",
      "================\n",
      "Running sgd_eg\n",
      "================\n",
      "\n",
      "Train Epoch: 1 [0/60000 (0%)]\tLoss: 2.303030\n",
      "Train Epoch: 1 [25600/60000 (43%)]\tLoss: 0.313825\n",
      "Train Epoch: 1 [51200/60000 (85%)]\tLoss: 0.148447\n",
      "\n",
      "Test set: Average loss: 0.0776, Accuracy: 9747/10000 (97%)\n",
      "\n",
      "Train Epoch: 2 [0/60000 (0%)]\tLoss: 0.260584\n",
      "Train Epoch: 2 [25600/60000 (43%)]\tLoss: 0.256175\n",
      "Train Epoch: 2 [51200/60000 (85%)]\tLoss: 0.135639\n",
      "\n",
      "Test set: Average loss: 0.0511, Accuracy: 9838/10000 (98%)\n",
      "\n",
      "================\n",
      "Running adamw_eg\n",
      "================\n",
      "\n",
      "Train Epoch: 1 [0/60000 (0%)]\tLoss: 2.309458\n",
      "Train Epoch: 1 [25600/60000 (43%)]\tLoss: 0.159131\n",
      "Train Epoch: 1 [51200/60000 (85%)]\tLoss: 0.172469\n",
      "\n",
      "Test set: Average loss: 0.0557, Accuracy: 9817/10000 (98%)\n",
      "\n",
      "Train Epoch: 2 [0/60000 (0%)]\tLoss: 0.052731\n",
      "Train Epoch: 2 [25600/60000 (43%)]\tLoss: 0.105179\n",
      "Train Epoch: 2 [51200/60000 (85%)]\tLoss: 0.097150\n",
      "\n",
      "Test set: Average loss: 0.0375, Accuracy: 9877/10000 (99%)\n",
      "\n"
     ]
    }
   ],
   "source": [
    "for alg, lr in zip(['sgd', 'sgd_sign', 'sgd_eg', 'adamw_eg'], [0.1, 0.1, 1.0, 0.1]):\n",
    "    print(f'================\\nRunning {alg}\\n================\\n')\n",
    "    main(alg, lr=lr)"
   ]
  },
  {
   "cell_type": "markdown",
   "metadata": {},
   "source": [
    "Both EG and GD with frozen signs can't switch signs. This might be problematic, especially for the bias parameters in normalization layers. We have an option to re-initialize just the bias parameters as a sum of negative and positive biases (although we've only observed minor performance improvements with this approach):\n",
    "```\n",
    "init_tools.set_split_bias(model)\n",
    "```\n",
    "Theoretically, frozen signs are also an issue for the weights, but we using a similar technique for the weights had minor impact on the performance (while doubling parameter count). "
   ]
  },
  {
   "cell_type": "code",
   "execution_count": 4,
   "metadata": {},
   "outputs": [
    {
     "name": "stdout",
     "output_type": "stream",
     "text": [
      "Train Epoch: 1 [0/60000 (0%)]\tLoss: 2.303175\n",
      "Train Epoch: 1 [25600/60000 (43%)]\tLoss: 0.228519\n",
      "Train Epoch: 1 [51200/60000 (85%)]\tLoss: 0.124348\n",
      "\n",
      "Test set: Average loss: 0.0711, Accuracy: 9785/10000 (98%)\n",
      "\n",
      "Train Epoch: 2 [0/60000 (0%)]\tLoss: 0.119375\n",
      "Train Epoch: 2 [25600/60000 (43%)]\tLoss: 0.102206\n",
      "Train Epoch: 2 [51200/60000 (85%)]\tLoss: 0.096450\n",
      "\n",
      "Test set: Average loss: 0.0478, Accuracy: 9849/10000 (98%)\n",
      "\n"
     ]
    }
   ],
   "source": [
    "init_state, final_state = main('sgd_sign', lr=0.1, use_split_bias=True)"
   ]
  },
  {
   "cell_type": "code",
   "execution_count": 5,
   "metadata": {},
   "outputs": [
    {
     "data": {
      "text/plain": [
       "odict_keys(['conv1.bias_pos', 'conv1.bias_neg', 'conv1.base_layer.weight', 'conv2.bias_pos', 'conv2.bias_neg', 'conv2.base_layer.weight', 'fc1.bias_pos', 'fc1.bias_neg', 'fc1.base_layer.weight', 'fc2.bias_pos', 'fc2.bias_neg', 'fc2.base_layer.weight'])"
      ]
     },
     "execution_count": 5,
     "metadata": {},
     "output_type": "execute_result"
    }
   ],
   "source": [
    "# e.g. conv1.bias and conv1.weight become conv1.bias_pos, conv1.bias_neg, conv1.base_layer.weight\n",
    "init_state.keys()"
   ]
  },
  {
   "cell_type": "code",
   "execution_count": 6,
   "metadata": {},
   "outputs": [],
   "source": [
    "# the signs stay the same for all parameters\n",
    "for key in init_state.keys():\n",
    "    assert torch.all(init_state[key].sign() == final_state[key].sign())"
   ]
  },
  {
   "cell_type": "markdown",
   "metadata": {},
   "source": [
    "We can also re-init the network to have log-normal weights using\n",
    "```\n",
    "init_tools.re_init_network(model, 'relu', mean_std_ratio=1.5)\n",
    "```\n",
    "Here mean_std_ratio=1.5 control the shape of the log-normal distribution.\n",
    "\n",
    "In this example, we don't re-initialize the final layer as it's too small, resulting in a very large initial loss. This is not an issue for larger networks like ResNet50."
   ]
  },
  {
   "cell_type": "code",
   "execution_count": 7,
   "metadata": {},
   "outputs": [
    {
     "name": "stdout",
     "output_type": "stream",
     "text": [
      "Train Epoch: 1 [0/60000 (0%)]\tLoss: 2.979739\n",
      "Train Epoch: 1 [25600/60000 (43%)]\tLoss: 0.525420\n",
      "Train Epoch: 1 [51200/60000 (85%)]\tLoss: 0.280820\n",
      "\n",
      "Test set: Average loss: 0.1113, Accuracy: 9658/10000 (97%)\n",
      "\n",
      "Train Epoch: 2 [0/60000 (0%)]\tLoss: 0.219662\n",
      "Train Epoch: 2 [25600/60000 (43%)]\tLoss: 0.233717\n",
      "Train Epoch: 2 [51200/60000 (85%)]\tLoss: 0.296126\n",
      "\n",
      "Test set: Average loss: 0.0848, Accuracy: 9752/10000 (98%)\n",
      "\n"
     ]
    }
   ],
   "source": [
    "init_state, final_state = main('sgd_eg', lr=0.5, use_lognormal_init=True)"
   ]
  },
  {
   "cell_type": "code",
   "execution_count": 8,
   "metadata": {},
   "outputs": [
    {
     "data": {
      "image/png": "[encoded data removed]",
      "text/plain": [
       "<Figure size 800x300 with 1 Axes>"
      ]
     },
     "metadata": {},
     "output_type": "display_data"
    }
   ],
   "source": [
    "x = init_state['conv2.weight'].flatten().cpu()\n",
    "y = final_state['conv2.weight'].flatten().cpu()\n",
    "\n",
    "plt.figure(figsize=(8, 3))\n",
    "sns.histplot(x, label='initial conv2 weight')\n",
    "sns.histplot(y, alpha=0.5, label='final conv2 weight')\n",
    "\n",
    "plt.xlabel('conv2.weight')\n",
    "plt.legend()\n",
    "plt.show()"
   ]
  }
 ],
 "metadata": {
  "kernelspec": {
   "display_name": "eg_learning",
   "language": "python",
   "name": "eg_learning"
  },
  "language_info": {
   "codemirror_mode": {
    "name": "ipython",
    "version": 3
   },
   "file_extension": ".py",
   "mimetype": "text/x-python",
   "name": "python",
   "nbconvert_exporter": "python",
   "pygments_lexer": "ipython3",
   "version": "3.9.20"
  }
 },
 "nbformat": 4,
 "nbformat_minor": 4
}
